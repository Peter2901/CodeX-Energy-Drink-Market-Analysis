{
    "metadata": {
        "kernelspec": {
            "name": "SQL",
            "display_name": "SQL",
            "language": "sql"
        },
        "language_info": {
            "name": "sql",
            "version": ""
        }
    },
    "nbformat_minor": 2,
    "nbformat": 4,
    "cells": [
        {
            "cell_type": "code",
            "source": [
                "USE supermarket;"
            ],
            "metadata": {
                "azdata_cell_guid": "00e6c816-0c99-4500-aab5-d75ea7bda259",
                "language": "sql"
            },
            "outputs": [
                {
                    "output_type": "display_data",
                    "data": {
                        "text/html": "Commands completed successfully."
                    },
                    "metadata": {}
                },
                {
                    "output_type": "display_data",
                    "data": {
                        "text/html": "Total execution time: 00:00:00"
                    },
                    "metadata": {}
                }
            ],
            "execution_count": 3
        },
        {
            "cell_type": "code",
            "source": [
                "SELECT TOP (10) [Row_ID]\r\n",
                "      ,[Order_ID]\r\n",
                "      ,[Order_Date]\r\n",
                "      ,[Ship_Date]\r\n",
                "      ,[Ship_Mode]\r\n",
                "      ,[Customer_ID]\r\n",
                "      ,[Customer_Name]\r\n",
                "      ,[Segment]\r\n",
                "      ,[Country]\r\n",
                "      ,[City]\r\n",
                "      ,[State]\r\n",
                "      ,[Postal_Code]\r\n",
                "      ,[Region]\r\n",
                "      ,[Product_ID]\r\n",
                "      ,[Category]\r\n",
                "      ,[Sub_Category]\r\n",
                "      ,[Product_Name]\r\n",
                "      ,[Sales]\r\n",
                "      ,[Quantity]\r\n",
                "      ,[Discount]\r\n",
                "      ,[Profit]\r\n",
                "  FROM [supermarket].[dbo].[Superstore]"
            ],
            "metadata": {
                "language": "sql",
                "azdata_cell_guid": "891a17d1-94e0-434e-9192-d98ca9c13297"
            },
            "outputs": [
                {
                    "output_type": "display_data",
                    "data": {
                        "text/html": "(10 rows affected)"
                    },
                    "metadata": {}
                },
                {
                    "output_type": "display_data",
                    "data": {
                        "text/html": "Total execution time: 00:00:00.011"
                    },
                    "metadata": {}
                },
                {
                    "output_type": "execute_result",
                    "metadata": {},
                    "execution_count": 4,
                    "data": {
                        "application/vnd.dataresource+json": {
                            "schema": {
                                "fields": [
                                    {
                                        "name": "Row_ID"
                                    },
                                    {
                                        "name": "Order_ID"
                                    },
                                    {
                                        "name": "Order_Date"
                                    },
                                    {
                                        "name": "Ship_Date"
                                    },
                                    {
                                        "name": "Ship_Mode"
                                    },
                                    {
                                        "name": "Customer_ID"
                                    },
                                    {
                                        "name": "Customer_Name"
                                    },
                                    {
                                        "name": "Segment"
                                    },
                                    {
                                        "name": "Country"
                                    },
                                    {
                                        "name": "City"
                                    },
                                    {
                                        "name": "State"
                                    },
                                    {
                                        "name": "Postal_Code"
                                    },
                                    {
                                        "name": "Region"
                                    },
                                    {
                                        "name": "Product_ID"
                                    },
                                    {
                                        "name": "Category"
                                    },
                                    {
                                        "name": "Sub_Category"
                                    },
                                    {
                                        "name": "Product_Name"
                                    },
                                    {
                                        "name": "Sales"
                                    },
                                    {
                                        "name": "Quantity"
                                    },
                                    {
                                        "name": "Discount"
                                    },
                                    {
                                        "name": "Profit"
                                    }
                                ]
                            },
                            "data": [
                                {
                                    "Row_ID": "1",
                                    "Order_ID": "CA-2013-152156",
                                    "Order_Date": "2013-11-09",
                                    "Ship_Date": "2013-11-12",
                                    "Ship_Mode": "Second Class",
                                    "Customer_ID": "CG-12520",
                                    "Customer_Name": "Claire Gute",
                                    "Segment": "Consumer",
                                    "Country": "United States",
                                    "City": "Henderson",
                                    "State": "Kentucky",
                                    "Postal_Code": "42420.0000000000",
                                    "Region": "South",
                                    "Product_ID": "FUR-BO-10001798",
                                    "Category": "Furniture",
                                    "Sub_Category": "Bookcases",
                                    "Product_Name": "Bush Somerset Collection Bookcase",
                                    "Sales": "261.9599914550781",
                                    "Quantity": "2",
                                    "Discount": "0",
                                    "Profit": "41.91360092163086"
                                },
                                {
                                    "Row_ID": "2",
                                    "Order_ID": "CA-2013-152156",
                                    "Order_Date": "2013-11-09",
                                    "Ship_Date": "2013-11-12",
                                    "Ship_Mode": "Second Class",
                                    "Customer_ID": "CG-12520",
                                    "Customer_Name": "Claire Gute",
                                    "Segment": "Consumer",
                                    "Country": "United States",
                                    "City": "Henderson",
                                    "State": "Kentucky",
                                    "Postal_Code": "42420.0000000000",
                                    "Region": "South",
                                    "Product_ID": "FUR-CH-10000454",
                                    "Category": "Furniture",
                                    "Sub_Category": "Chairs",
                                    "Product_Name": "Hon Deluxe Fabric Upholstered Stacking Chairs, Rounded Back",
                                    "Sales": "731.9400024414062",
                                    "Quantity": "3",
                                    "Discount": "0",
                                    "Profit": "219.58200073242188"
                                },
                                {
                                    "Row_ID": "3",
                                    "Order_ID": "CA-2013-138688",
                                    "Order_Date": "2013-06-13",
                                    "Ship_Date": "2013-06-17",
                                    "Ship_Mode": "Second Class",
                                    "Customer_ID": "DV-13045",
                                    "Customer_Name": "Darrin Van Huff",
                                    "Segment": "Corporate",
                                    "Country": "United States",
                                    "City": "Los Angeles",
                                    "State": "California",
                                    "Postal_Code": "90036.0000000000",
                                    "Region": "West",
                                    "Product_ID": "OFF-LA-10000240",
                                    "Category": "Office Supplies",
                                    "Sub_Category": "Labels",
                                    "Product_Name": "Self-Adhesive Address Labels for Typewriters by Universal",
                                    "Sales": "14.619999885559082",
                                    "Quantity": "2",
                                    "Discount": "0",
                                    "Profit": "6.871399879455566"
                                },
                                {
                                    "Row_ID": "4",
                                    "Order_ID": "US-2012-108966",
                                    "Order_Date": "2012-10-11",
                                    "Ship_Date": "2012-10-18",
                                    "Ship_Mode": "Standard Class",
                                    "Customer_ID": "SO-20335",
                                    "Customer_Name": "Sean O'Donnell",
                                    "Segment": "Consumer",
                                    "Country": "United States",
                                    "City": "Fort Lauderdale",
                                    "State": "Florida",
                                    "Postal_Code": "33311.0000000000",
                                    "Region": "South",
                                    "Product_ID": "FUR-TA-10000577",
                                    "Category": "Furniture",
                                    "Sub_Category": "Tables",
                                    "Product_Name": "Bretford CR4500 Series Slim Rectangular Table",
                                    "Sales": "957.5775146484375",
                                    "Quantity": "5",
                                    "Discount": "0.44999998807907104",
                                    "Profit": "-383.031005859375"
                                },
                                {
                                    "Row_ID": "5",
                                    "Order_ID": "US-2012-108966",
                                    "Order_Date": "2012-10-11",
                                    "Ship_Date": "2012-10-18",
                                    "Ship_Mode": "Standard Class",
                                    "Customer_ID": "SO-20335",
                                    "Customer_Name": "Sean O'Donnell",
                                    "Segment": "Consumer",
                                    "Country": "United States",
                                    "City": "Fort Lauderdale",
                                    "State": "Florida",
                                    "Postal_Code": "33311.0000000000",
                                    "Region": "South",
                                    "Product_ID": "OFF-ST-10000760",
                                    "Category": "Office Supplies",
                                    "Sub_Category": "Storage",
                                    "Product_Name": "Eldon Fold 'N Roll Cart System",
                                    "Sales": "22.368000030517578",
                                    "Quantity": "2",
                                    "Discount": "0.20000000298023224",
                                    "Profit": "2.516400098800659"
                                },
                                {
                                    "Row_ID": "6",
                                    "Order_ID": "CA-2011-115812",
                                    "Order_Date": "2011-06-09",
                                    "Ship_Date": "2011-06-14",
                                    "Ship_Mode": "Standard Class",
                                    "Customer_ID": "BH-11710",
                                    "Customer_Name": "Brosina Hoffman",
                                    "Segment": "Consumer",
                                    "Country": "United States",
                                    "City": "Los Angeles",
                                    "State": "California",
                                    "Postal_Code": "90032.0000000000",
                                    "Region": "West",
                                    "Product_ID": "FUR-FU-10001487",
                                    "Category": "Furniture",
                                    "Sub_Category": "Furnishings",
                                    "Product_Name": "Eldon Expressions Wood and Plastic Desk Accessories, Cherry Wood",
                                    "Sales": "48.86000061035156",
                                    "Quantity": "7",
                                    "Discount": "0",
                                    "Profit": "14.169400215148926"
                                },
                                {
                                    "Row_ID": "7",
                                    "Order_ID": "CA-2011-115812",
                                    "Order_Date": "2011-06-09",
                                    "Ship_Date": "2011-06-14",
                                    "Ship_Mode": "Standard Class",
                                    "Customer_ID": "BH-11710",
                                    "Customer_Name": "Brosina Hoffman",
                                    "Segment": "Consumer",
                                    "Country": "United States",
                                    "City": "Los Angeles",
                                    "State": "California",
                                    "Postal_Code": "90032.0000000000",
                                    "Region": "West",
                                    "Product_ID": "OFF-AR-10002833",
                                    "Category": "Office Supplies",
                                    "Sub_Category": "Art",
                                    "Product_Name": "Newell 322",
                                    "Sales": "7.28000020980835",
                                    "Quantity": "4",
                                    "Discount": "0",
                                    "Profit": "1.9656000137329102"
                                },
                                {
                                    "Row_ID": "8",
                                    "Order_ID": "CA-2011-115812",
                                    "Order_Date": "2011-06-09",
                                    "Ship_Date": "2011-06-14",
                                    "Ship_Mode": "Standard Class",
                                    "Customer_ID": "BH-11710",
                                    "Customer_Name": "Brosina Hoffman",
                                    "Segment": "Consumer",
                                    "Country": "United States",
                                    "City": "Los Angeles",
                                    "State": "California",
                                    "Postal_Code": "90032.0000000000",
                                    "Region": "West",
                                    "Product_ID": "TEC-PH-10002275",
                                    "Category": "Technology",
                                    "Sub_Category": "Phones",
                                    "Product_Name": "Mitel 5320 IP Phone VoIP phone",
                                    "Sales": "907.1519775390625",
                                    "Quantity": "6",
                                    "Discount": "0.20000000298023224",
                                    "Profit": "90.71520233154297"
                                },
                                {
                                    "Row_ID": "9",
                                    "Order_ID": "CA-2011-115812",
                                    "Order_Date": "2011-06-09",
                                    "Ship_Date": "2011-06-14",
                                    "Ship_Mode": "Standard Class",
                                    "Customer_ID": "BH-11710",
                                    "Customer_Name": "Brosina Hoffman",
                                    "Segment": "Consumer",
                                    "Country": "United States",
                                    "City": "Los Angeles",
                                    "State": "California",
                                    "Postal_Code": "90032.0000000000",
                                    "Region": "West",
                                    "Product_ID": "OFF-BI-10003910",
                                    "Category": "Office Supplies",
                                    "Sub_Category": "Binders",
                                    "Product_Name": "DXL Angle-View Binders with Locking Rings by Samsill",
                                    "Sales": "18.503999710083008",
                                    "Quantity": "3",
                                    "Discount": "0.20000000298023224",
                                    "Profit": "5.78249979019165"
                                },
                                {
                                    "Row_ID": "10",
                                    "Order_ID": "CA-2011-115812",
                                    "Order_Date": "2011-06-09",
                                    "Ship_Date": "2011-06-14",
                                    "Ship_Mode": "Standard Class",
                                    "Customer_ID": "BH-11710",
                                    "Customer_Name": "Brosina Hoffman",
                                    "Segment": "Consumer",
                                    "Country": "United States",
                                    "City": "Los Angeles",
                                    "State": "California",
                                    "Postal_Code": "90032.0000000000",
                                    "Region": "West",
                                    "Product_ID": "OFF-AP-10002892",
                                    "Category": "Office Supplies",
                                    "Sub_Category": "Appliances",
                                    "Product_Name": "Belkin F5C206VTEL 6 Outlet Surge",
                                    "Sales": "114.9000015258789",
                                    "Quantity": "5",
                                    "Discount": "0",
                                    "Profit": "34.470001220703125"
                                }
                            ]
                        },
                        "text/html": [
                            "<table>",
                            "<tr><th>Row_ID</th><th>Order_ID</th><th>Order_Date</th><th>Ship_Date</th><th>Ship_Mode</th><th>Customer_ID</th><th>Customer_Name</th><th>Segment</th><th>Country</th><th>City</th><th>State</th><th>Postal_Code</th><th>Region</th><th>Product_ID</th><th>Category</th><th>Sub_Category</th><th>Product_Name</th><th>Sales</th><th>Quantity</th><th>Discount</th><th>Profit</th></tr>",
                            "<tr><td>1</td><td>CA-2013-152156</td><td>2013-11-09</td><td>2013-11-12</td><td>Second Class</td><td>CG-12520</td><td>Claire Gute</td><td>Consumer</td><td>United States</td><td>Henderson</td><td>Kentucky</td><td>42420.0000000000</td><td>South</td><td>FUR-BO-10001798</td><td>Furniture</td><td>Bookcases</td><td>Bush Somerset Collection Bookcase</td><td>261.9599914550781</td><td>2</td><td>0</td><td>41.91360092163086</td></tr>",
                            "<tr><td>2</td><td>CA-2013-152156</td><td>2013-11-09</td><td>2013-11-12</td><td>Second Class</td><td>CG-12520</td><td>Claire Gute</td><td>Consumer</td><td>United States</td><td>Henderson</td><td>Kentucky</td><td>42420.0000000000</td><td>South</td><td>FUR-CH-10000454</td><td>Furniture</td><td>Chairs</td><td>Hon Deluxe Fabric Upholstered Stacking Chairs, Rounded Back</td><td>731.9400024414062</td><td>3</td><td>0</td><td>219.58200073242188</td></tr>",
                            "<tr><td>3</td><td>CA-2013-138688</td><td>2013-06-13</td><td>2013-06-17</td><td>Second Class</td><td>DV-13045</td><td>Darrin Van Huff</td><td>Corporate</td><td>United States</td><td>Los Angeles</td><td>California</td><td>90036.0000000000</td><td>West</td><td>OFF-LA-10000240</td><td>Office Supplies</td><td>Labels</td><td>Self-Adhesive Address Labels for Typewriters by Universal</td><td>14.619999885559082</td><td>2</td><td>0</td><td>6.871399879455566</td></tr>",
                            "<tr><td>4</td><td>US-2012-108966</td><td>2012-10-11</td><td>2012-10-18</td><td>Standard Class</td><td>SO-20335</td><td>Sean O'Donnell</td><td>Consumer</td><td>United States</td><td>Fort Lauderdale</td><td>Florida</td><td>33311.0000000000</td><td>South</td><td>FUR-TA-10000577</td><td>Furniture</td><td>Tables</td><td>Bretford CR4500 Series Slim Rectangular Table</td><td>957.5775146484375</td><td>5</td><td>0.44999998807907104</td><td>-383.031005859375</td></tr>",
                            "<tr><td>5</td><td>US-2012-108966</td><td>2012-10-11</td><td>2012-10-18</td><td>Standard Class</td><td>SO-20335</td><td>Sean O'Donnell</td><td>Consumer</td><td>United States</td><td>Fort Lauderdale</td><td>Florida</td><td>33311.0000000000</td><td>South</td><td>OFF-ST-10000760</td><td>Office Supplies</td><td>Storage</td><td>Eldon Fold 'N Roll Cart System</td><td>22.368000030517578</td><td>2</td><td>0.20000000298023224</td><td>2.516400098800659</td></tr>",
                            "<tr><td>6</td><td>CA-2011-115812</td><td>2011-06-09</td><td>2011-06-14</td><td>Standard Class</td><td>BH-11710</td><td>Brosina Hoffman</td><td>Consumer</td><td>United States</td><td>Los Angeles</td><td>California</td><td>90032.0000000000</td><td>West</td><td>FUR-FU-10001487</td><td>Furniture</td><td>Furnishings</td><td>Eldon Expressions Wood and Plastic Desk Accessories, Cherry Wood</td><td>48.86000061035156</td><td>7</td><td>0</td><td>14.169400215148926</td></tr>",
                            "<tr><td>7</td><td>CA-2011-115812</td><td>2011-06-09</td><td>2011-06-14</td><td>Standard Class</td><td>BH-11710</td><td>Brosina Hoffman</td><td>Consumer</td><td>United States</td><td>Los Angeles</td><td>California</td><td>90032.0000000000</td><td>West</td><td>OFF-AR-10002833</td><td>Office Supplies</td><td>Art</td><td>Newell 322</td><td>7.28000020980835</td><td>4</td><td>0</td><td>1.9656000137329102</td></tr>",
                            "<tr><td>8</td><td>CA-2011-115812</td><td>2011-06-09</td><td>2011-06-14</td><td>Standard Class</td><td>BH-11710</td><td>Brosina Hoffman</td><td>Consumer</td><td>United States</td><td>Los Angeles</td><td>California</td><td>90032.0000000000</td><td>West</td><td>TEC-PH-10002275</td><td>Technology</td><td>Phones</td><td>Mitel 5320 IP Phone VoIP phone</td><td>907.1519775390625</td><td>6</td><td>0.20000000298023224</td><td>90.71520233154297</td></tr>",
                            "<tr><td>9</td><td>CA-2011-115812</td><td>2011-06-09</td><td>2011-06-14</td><td>Standard Class</td><td>BH-11710</td><td>Brosina Hoffman</td><td>Consumer</td><td>United States</td><td>Los Angeles</td><td>California</td><td>90032.0000000000</td><td>West</td><td>OFF-BI-10003910</td><td>Office Supplies</td><td>Binders</td><td>DXL Angle-View Binders with Locking Rings by Samsill</td><td>18.503999710083008</td><td>3</td><td>0.20000000298023224</td><td>5.78249979019165</td></tr>",
                            "<tr><td>10</td><td>CA-2011-115812</td><td>2011-06-09</td><td>2011-06-14</td><td>Standard Class</td><td>BH-11710</td><td>Brosina Hoffman</td><td>Consumer</td><td>United States</td><td>Los Angeles</td><td>California</td><td>90032.0000000000</td><td>West</td><td>OFF-AP-10002892</td><td>Office Supplies</td><td>Appliances</td><td>Belkin F5C206VTEL 6 Outlet Surge</td><td>114.9000015258789</td><td>5</td><td>0</td><td>34.470001220703125</td></tr>",
                            "</table>"
                        ]
                    }
                }
            ],
            "execution_count": 4
        },
        {
            "cell_type": "code",
            "source": [
                "SELECT Category, Sub_Category, round(SUM(Sales),2)  AS TotalSales, round(SUM(Profit),2)  AS TotalProfit \r\n",
                "FROM [Superstore]\r\n",
                "GROUP BY Category, Sub_Category\r\n",
                "order by Category, TotalSales DESC , TotalProfit DESC ;"
            ],
            "metadata": {
                "azdata_cell_guid": "57fdf732-afab-4ab9-8245-795798ed9cb8",
                "language": "sql",
                "tags": []
            },
            "outputs": [
                {
                    "output_type": "display_data",
                    "data": {
                        "text/html": "Warning: Null value is eliminated by an aggregate or other SET operation."
                    },
                    "metadata": {}
                },
                {
                    "output_type": "display_data",
                    "data": {
                        "text/html": "(17 rows affected)"
                    },
                    "metadata": {}
                },
                {
                    "output_type": "display_data",
                    "data": {
                        "text/html": "Total execution time: 00:00:00.018"
                    },
                    "metadata": {}
                },
                {
                    "output_type": "execute_result",
                    "metadata": {},
                    "execution_count": 6,
                    "data": {
                        "application/vnd.dataresource+json": {
                            "schema": {
                                "fields": [
                                    {
                                        "name": "Category"
                                    },
                                    {
                                        "name": "Sub_Category"
                                    },
                                    {
                                        "name": "TotalSales"
                                    },
                                    {
                                        "name": "TotalProfit"
                                    }
                                ]
                            },
                            "data": [
                                {
                                    "Category": "Furniture",
                                    "Sub_Category": "Chairs",
                                    "TotalSales": "328449.1",
                                    "TotalProfit": "26590.17"
                                },
                                {
                                    "Category": "Furniture",
                                    "Sub_Category": "Tables",
                                    "TotalSales": "206965.53",
                                    "TotalProfit": "-17305.48"
                                },
                                {
                                    "Category": "Furniture",
                                    "Sub_Category": "Bookcases",
                                    "TotalSales": "114880",
                                    "TotalProfit": "-3472.56"
                                },
                                {
                                    "Category": "Furniture",
                                    "Sub_Category": "Furnishings",
                                    "TotalSales": "91705.16",
                                    "TotalProfit": "13059.14"
                                },
                                {
                                    "Category": "Office Supplies",
                                    "Sub_Category": "Storage",
                                    "TotalSales": "223843.61",
                                    "TotalProfit": "21278.83"
                                },
                                {
                                    "Category": "Office Supplies",
                                    "Sub_Category": "Binders",
                                    "TotalSales": "203412.73",
                                    "TotalProfit": "30221.76"
                                },
                                {
                                    "Category": "Office Supplies",
                                    "Sub_Category": "Appliances",
                                    "TotalSales": "107532.16",
                                    "TotalProfit": "18138.01"
                                },
                                {
                                    "Category": "Office Supplies",
                                    "Sub_Category": "Paper",
                                    "TotalSales": "78479.21",
                                    "TotalProfit": "34053.57"
                                },
                                {
                                    "Category": "Office Supplies",
                                    "Sub_Category": "Supplies",
                                    "TotalSales": "46673.54",
                                    "TotalProfit": "-1189.1"
                                },
                                {
                                    "Category": "Office Supplies",
                                    "Sub_Category": "Art",
                                    "TotalSales": "27118.79",
                                    "TotalProfit": "6527.79"
                                },
                                {
                                    "Category": "Office Supplies",
                                    "Sub_Category": "Envelopes",
                                    "TotalSales": "16476.4",
                                    "TotalProfit": "6964.18"
                                },
                                {
                                    "Category": "Office Supplies",
                                    "Sub_Category": "Labels",
                                    "TotalSales": "12486.31",
                                    "TotalProfit": "5546.25"
                                },
                                {
                                    "Category": "Office Supplies",
                                    "Sub_Category": "Fasteners",
                                    "TotalSales": "3024.28",
                                    "TotalProfit": "949.52"
                                },
                                {
                                    "Category": "Technology",
                                    "Sub_Category": "Phones",
                                    "TotalSales": "330007.05",
                                    "TotalProfit": "44515.73"
                                },
                                {
                                    "Category": "Technology",
                                    "Sub_Category": "Machines",
                                    "TotalSales": "189238.63",
                                    "TotalProfit": "3384.76"
                                },
                                {
                                    "Category": "Technology",
                                    "Sub_Category": "Accessories",
                                    "TotalSales": "167380.32",
                                    "TotalProfit": "41936.64"
                                },
                                {
                                    "Category": "Technology",
                                    "Sub_Category": "Copiers",
                                    "TotalSales": "149528.03",
                                    "TotalProfit": "55617.82"
                                }
                            ]
                        },
                        "text/html": [
                            "<table>",
                            "<tr><th>Category</th><th>Sub_Category</th><th>TotalSales</th><th>TotalProfit</th></tr>",
                            "<tr><td>Furniture</td><td>Chairs</td><td>328449.1</td><td>26590.17</td></tr>",
                            "<tr><td>Furniture</td><td>Tables</td><td>206965.53</td><td>-17305.48</td></tr>",
                            "<tr><td>Furniture</td><td>Bookcases</td><td>114880</td><td>-3472.56</td></tr>",
                            "<tr><td>Furniture</td><td>Furnishings</td><td>91705.16</td><td>13059.14</td></tr>",
                            "<tr><td>Office Supplies</td><td>Storage</td><td>223843.61</td><td>21278.83</td></tr>",
                            "<tr><td>Office Supplies</td><td>Binders</td><td>203412.73</td><td>30221.76</td></tr>",
                            "<tr><td>Office Supplies</td><td>Appliances</td><td>107532.16</td><td>18138.01</td></tr>",
                            "<tr><td>Office Supplies</td><td>Paper</td><td>78479.21</td><td>34053.57</td></tr>",
                            "<tr><td>Office Supplies</td><td>Supplies</td><td>46673.54</td><td>-1189.1</td></tr>",
                            "<tr><td>Office Supplies</td><td>Art</td><td>27118.79</td><td>6527.79</td></tr>",
                            "<tr><td>Office Supplies</td><td>Envelopes</td><td>16476.4</td><td>6964.18</td></tr>",
                            "<tr><td>Office Supplies</td><td>Labels</td><td>12486.31</td><td>5546.25</td></tr>",
                            "<tr><td>Office Supplies</td><td>Fasteners</td><td>3024.28</td><td>949.52</td></tr>",
                            "<tr><td>Technology</td><td>Phones</td><td>330007.05</td><td>44515.73</td></tr>",
                            "<tr><td>Technology</td><td>Machines</td><td>189238.63</td><td>3384.76</td></tr>",
                            "<tr><td>Technology</td><td>Accessories</td><td>167380.32</td><td>41936.64</td></tr>",
                            "<tr><td>Technology</td><td>Copiers</td><td>149528.03</td><td>55617.82</td></tr>",
                            "</table>"
                        ]
                    }
                }
            ],
            "execution_count": 6
        },
        {
            "cell_type": "code",
            "source": [
                "-- SELECT Category, Sub_Category, round(SUM(Sales),2)  AS TotalSales, round(SUM(Profit),2)  AS TotalProfit \r\n",
                "-- FROM [Superstore]\r\n",
                "-- GROUP BY Category, Sub_Category\r\n",
                "-- order by Category, TotalSales DESC , TotalProfit DESC ;\r\n",
                "\r\n",
                "\r\n",
                "SELECT Category , round(SUM(Sales),2)  As Total_Sales from  [Superstore]\r\n",
                "GROUP BY Category\r\n",
                "ORDER BY Total_Sales DESC;\r\n",
                "\r\n",
                "\r\n",
                "SELECT Sub_Category , round(SUM(Sales),2)  As Total_Sales from  [Superstore]\r\n",
                "GROUP BY Sub_Category\r\n",
                "ORDER BY Total_Sales DESC;"
            ],
            "metadata": {
                "azdata_cell_guid": "6d3d513b-f37a-483d-9b34-50c535978c72",
                "language": "sql"
            },
            "outputs": [
                {
                    "output_type": "display_data",
                    "data": {
                        "text/html": "(3 rows affected)"
                    },
                    "metadata": {}
                },
                {
                    "output_type": "display_data",
                    "data": {
                        "text/html": "(17 rows affected)"
                    },
                    "metadata": {}
                },
                {
                    "output_type": "display_data",
                    "data": {
                        "text/html": "Total execution time: 00:00:00.020"
                    },
                    "metadata": {}
                },
                {
                    "output_type": "execute_result",
                    "metadata": {},
                    "execution_count": 11,
                    "data": {
                        "application/vnd.dataresource+json": {
                            "schema": {
                                "fields": [
                                    {
                                        "name": "Category"
                                    },
                                    {
                                        "name": "Total_Sales"
                                    }
                                ]
                            },
                            "data": [
                                {
                                    "Category": "Technology",
                                    "Total_Sales": "836154.03"
                                },
                                {
                                    "Category": "Furniture",
                                    "Total_Sales": "741999.79"
                                },
                                {
                                    "Category": "Office Supplies",
                                    "Total_Sales": "719047.03"
                                }
                            ]
                        },
                        "text/html": [
                            "<table>",
                            "<tr><th>Category</th><th>Total_Sales</th></tr>",
                            "<tr><td>Technology</td><td>836154.03</td></tr>",
                            "<tr><td>Furniture</td><td>741999.79</td></tr>",
                            "<tr><td>Office Supplies</td><td>719047.03</td></tr>",
                            "</table>"
                        ]
                    }
                },
                {
                    "output_type": "execute_result",
                    "metadata": {},
                    "execution_count": 11,
                    "data": {
                        "application/vnd.dataresource+json": {
                            "schema": {
                                "fields": [
                                    {
                                        "name": "Sub_Category"
                                    },
                                    {
                                        "name": "Total_Sales"
                                    }
                                ]
                            },
                            "data": [
                                {
                                    "Sub_Category": "Phones",
                                    "Total_Sales": "330007.05"
                                },
                                {
                                    "Sub_Category": "Chairs",
                                    "Total_Sales": "328449.1"
                                },
                                {
                                    "Sub_Category": "Storage",
                                    "Total_Sales": "223843.61"
                                },
                                {
                                    "Sub_Category": "Tables",
                                    "Total_Sales": "206965.53"
                                },
                                {
                                    "Sub_Category": "Binders",
                                    "Total_Sales": "203412.73"
                                },
                                {
                                    "Sub_Category": "Machines",
                                    "Total_Sales": "189238.63"
                                },
                                {
                                    "Sub_Category": "Accessories",
                                    "Total_Sales": "167380.32"
                                },
                                {
                                    "Sub_Category": "Copiers",
                                    "Total_Sales": "149528.03"
                                },
                                {
                                    "Sub_Category": "Bookcases",
                                    "Total_Sales": "114880"
                                },
                                {
                                    "Sub_Category": "Appliances",
                                    "Total_Sales": "107532.16"
                                },
                                {
                                    "Sub_Category": "Furnishings",
                                    "Total_Sales": "91705.16"
                                },
                                {
                                    "Sub_Category": "Paper",
                                    "Total_Sales": "78479.21"
                                },
                                {
                                    "Sub_Category": "Supplies",
                                    "Total_Sales": "46673.54"
                                },
                                {
                                    "Sub_Category": "Art",
                                    "Total_Sales": "27118.79"
                                },
                                {
                                    "Sub_Category": "Envelopes",
                                    "Total_Sales": "16476.4"
                                },
                                {
                                    "Sub_Category": "Labels",
                                    "Total_Sales": "12486.31"
                                },
                                {
                                    "Sub_Category": "Fasteners",
                                    "Total_Sales": "3024.28"
                                }
                            ]
                        },
                        "text/html": [
                            "<table>",
                            "<tr><th>Sub_Category</th><th>Total_Sales</th></tr>",
                            "<tr><td>Phones</td><td>330007.05</td></tr>",
                            "<tr><td>Chairs</td><td>328449.1</td></tr>",
                            "<tr><td>Storage</td><td>223843.61</td></tr>",
                            "<tr><td>Tables</td><td>206965.53</td></tr>",
                            "<tr><td>Binders</td><td>203412.73</td></tr>",
                            "<tr><td>Machines</td><td>189238.63</td></tr>",
                            "<tr><td>Accessories</td><td>167380.32</td></tr>",
                            "<tr><td>Copiers</td><td>149528.03</td></tr>",
                            "<tr><td>Bookcases</td><td>114880</td></tr>",
                            "<tr><td>Appliances</td><td>107532.16</td></tr>",
                            "<tr><td>Furnishings</td><td>91705.16</td></tr>",
                            "<tr><td>Paper</td><td>78479.21</td></tr>",
                            "<tr><td>Supplies</td><td>46673.54</td></tr>",
                            "<tr><td>Art</td><td>27118.79</td></tr>",
                            "<tr><td>Envelopes</td><td>16476.4</td></tr>",
                            "<tr><td>Labels</td><td>12486.31</td></tr>",
                            "<tr><td>Fasteners</td><td>3024.28</td></tr>",
                            "</table>"
                        ]
                    }
                }
            ],
            "execution_count": 11
        }
    ]
}